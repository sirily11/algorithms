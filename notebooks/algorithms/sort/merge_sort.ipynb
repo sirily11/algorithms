{
 "cells": [
  {
   "cell_type": "markdown",
   "metadata": {},
   "source": [
    "# Merge sort\n",
    "\n",
    "**Time Complexity**: $O(nlog(n))$\n",
    "\n",
    "**Auxiliary Space**: $O(n)$"
   ]
  },
  {
   "cell_type": "code",
   "execution_count": 17,
   "metadata": {
    "pycharm": {
     "is_executing": false
    }
   },
   "outputs": [],
   "source": [
    "def merge_sort(arr): \n",
    "    if len(arr) >1: \n",
    "        mid = len(arr)//2 # Finding the mid of the array \n",
    "        l = arr[:mid] # Dividing the array elements \n",
    "        r = arr[mid:] # into 2 halves \n",
    "\n",
    "        merge_sort(l) # Sorting the first half \n",
    "        merge_sort(r) # Sorting the second half \n",
    "\n",
    "        i = j = k = 0\n",
    "        while i < len(l) and j < len(r):  \n",
    "            if l[i] < r[j]: \n",
    "                arr[k] = l[i] \n",
    "                i+= 1\n",
    "            else: \n",
    "                arr[k] = r[j] \n",
    "                j+= 1\n",
    "            k+= 1\n",
    "            \n",
    "        while i < len(l): \n",
    "            arr[k] = l[i] \n",
    "            i+= 1\n",
    "            k+= 1\n",
    "            \n",
    "        while j < len(r): \n",
    "            arr[k] = r[j] \n",
    "            j+= 1\n",
    "            k+= 1\n",
    "    return arr"
   ]
  },
  {
   "cell_type": "code",
   "execution_count": 18,
   "metadata": {
    "pycharm": {
     "is_executing": false,
     "name": "#%%\n"
    }
   },
   "outputs": [
    {
     "data": {
      "text/plain": [
       "[1, 2, 3, 4]"
      ]
     },
     "execution_count": 18,
     "metadata": {},
     "output_type": "execute_result"
    }
   ],
   "source": [
    "merge_sort([4, 3, 2, 1])"
   ]
  },
  {
   "cell_type": "code",
   "execution_count": null,
   "metadata": {
    "pycharm": {
     "name": "#%%\n"
    }
   },
   "outputs": [],
   "source": [
    "\n"
   ]
  }
 ],
 "metadata": {
  "kernelspec": {
   "display_name": "Python 3.8.1 64-bit",
   "language": "python",
   "name": "python38164bit5bd499d3fe714442b82096ceb99369fd"
  },
  "language_info": {
   "codemirror_mode": {
    "name": "ipython",
    "version": 3
   },
   "file_extension": ".py",
   "mimetype": "text/x-python",
   "name": "python",
   "nbconvert_exporter": "python",
   "pygments_lexer": "ipython3",
   "version": "3.7.3"
  },
  "pycharm": {
   "stem_cell": {
    "cell_type": "raw",
    "metadata": {
     "collapsed": false
    },
    "source": []
   }
  }
 },
 "nbformat": 4,
 "nbformat_minor": 1
}
