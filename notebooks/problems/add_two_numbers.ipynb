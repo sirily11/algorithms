{
 "cells": [
  {
   "cell_type": "markdown",
   "metadata": {
    "collapsed": true,
    "pycharm": {
     "name": "#%% md\n"
    }
   },
   "source": [
    "Add two numbers\n",
    "\n",
    "You are given two non-empty linked lists representing two non-negative integers. The digits are stored in reverse order and each of their nodes contain a single digit. Add the two numbers and return it as a linked list.\n",
    "\n",
    "You may assume the two numbers do not contain any leading zero, except the number 0 itself.\n"
   ]
  },
  {
   "cell_type": "markdown",
   "source": [
    "## Example 1\n",
    "```\n",
    "Input: (2 -> 4 -> 3) + (5 -> 6 -> 4)\n",
    "Output: 7 -> 0 -> 8\n",
    "Explanation: 342 + 465 = 807.\n",
    "```"
   ],
   "metadata": {
    "collapsed": false
   }
  },
  {
   "cell_type": "code",
   "execution_count": 1,
   "outputs": [],
   "source": [
    "class ListNode:\n",
    "    def __init__(self, val=0, next=None):\n",
    "        self.val = val\n",
    "        self.next: ListNode = next\n",
    "    \n",
    "    def print(self):\n",
    "        print(self.val)\n",
    "        if self.next:\n",
    "            self.next.print()"
   ],
   "metadata": {
    "collapsed": false,
    "pycharm": {
     "name": "#%%\n",
     "is_executing": false
    }
   }
  },
  {
   "cell_type": "code",
   "execution_count": 25,
   "outputs": [],
   "source": [
    "def add_two_numbers(l1: ListNode, l2: ListNode, c = 0) -> ListNode:\n",
    "    val = l1.val + l2.val + c\n",
    "    c = val // 10\n",
    "    ret = ListNode(val % 10)\n",
    "    \n",
    "    if l1.next or l2.next or c > 0:\n",
    "        if not l1.next:\n",
    "            l1.next = ListNode(0)\n",
    "        \n",
    "        if not l2.next:\n",
    "            l2.next = ListNode(0)\n",
    "    \n",
    "        ret.next = add_two_numbers(l1.next, l2.next, c)\n",
    "    return ret"
   ],
   "metadata": {
    "collapsed": false,
    "pycharm": {
     "name": "#%%\n",
     "is_executing": false
    }
   }
  },
  {
   "cell_type": "markdown",
   "source": [
    "## Create list"
   ],
   "metadata": {
    "collapsed": false,
    "pycharm": {
     "name": "#%% md\n"
    }
   }
  },
  {
   "cell_type": "code",
   "execution_count": 26,
   "outputs": [
    {
     "name": "stdout",
     "text": [
      "Node 1\n",
      "2\n",
      "4\n",
      "3\n",
      "Node 2\n",
      "5\n",
      "6\n",
      "4\n"
     ],
     "output_type": "stream"
    }
   ],
   "source": [
    "node1 = ListNode(2)\n",
    "node1.next = ListNode(4)\n",
    "node1.next.next = ListNode(3)\n",
    "\n",
    "node2 = ListNode(5)\n",
    "node2.next = ListNode(6)\n",
    "node2.next.next = ListNode(4)\n",
    "\n",
    "print(\"Node 1\")\n",
    "node1.print()\n",
    "print(\"Node 2\")\n",
    "node2.print()"
   ],
   "metadata": {
    "collapsed": false,
    "pycharm": {
     "name": "#%%\n",
     "is_executing": false
    }
   }
  },
  {
   "cell_type": "markdown",
   "source": [
    "## Result"
   ],
   "metadata": {
    "collapsed": false,
    "pycharm": {
     "name": "#%% md\n"
    }
   }
  },
  {
   "cell_type": "code",
   "execution_count": 29,
   "outputs": [
    {
     "name": "stdout",
     "text": [
      "7\n",
      "0\n",
      "8\n"
     ],
     "output_type": "stream"
    }
   ],
   "source": [
    "result = add_two_numbers(node1, node2)\n",
    "result.print()"
   ],
   "metadata": {
    "collapsed": false,
    "pycharm": {
     "name": "#%%\n",
     "is_executing": false
    }
   }
  },
  {
   "cell_type": "markdown",
   "source": [
    "## Time: $O(n)$"
   ],
   "metadata": {
    "collapsed": false,
    "pycharm": {
     "name": "#%% md\n"
    }
   }
  }
 ],
 "metadata": {
  "kernelspec": {
   "display_name": "Python 3",
   "language": "python",
   "name": "python3"
  },
  "language_info": {
   "codemirror_mode": {
    "name": "ipython",
    "version": 2
   },
   "file_extension": ".py",
   "mimetype": "text/x-python",
   "name": "python",
   "nbconvert_exporter": "python",
   "pygments_lexer": "ipython2",
   "version": "2.7.6"
  },
  "pycharm": {
   "stem_cell": {
    "cell_type": "raw",
    "source": [],
    "metadata": {
     "collapsed": false
    }
   }
  }
 },
 "nbformat": 4,
 "nbformat_minor": 0
}