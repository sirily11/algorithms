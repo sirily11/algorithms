{
 "cells": [
  {
   "cell_type": "markdown",
   "metadata": {
    "collapsed": true,
    "pycharm": {
     "name": "#%% md\n"
    }
   },
   "source": [
    "# Design Twitter\n",
    "\n",
    "Design a simplified version of Twitter where users can post tweets, follow/unfollow another user and is able to see the 10 most recent tweets in the user's news feed. Your design should support the following methods:\n",
    "\n",
    "postTweet(userId, tweetId): Compose a new tweet.\n",
    "getNewsFeed(userId): Retrieve the 10 most recent tweet ids in the user's news feed. Each item in the news feed must be posted by users who the user followed or by the user herself. Tweets must be ordered from most recent to least recent.\n",
    "follow(followerId, followeeId): Follower follows a followee.\n",
    "unfollow(followerId, followeeId): Follower unfollows a followee."
   ]
  },
  {
   "cell_type": "markdown",
   "source": [
    "## Example\n",
    "```\n",
    "Twitter twitter = new Twitter();\n",
    "\n",
    "// User 1 posts a new tweet (id = 5).\n",
    "twitter.postTweet(1, 5);\n",
    "\n",
    "// User 1's news feed should return a list with 1 tweet id -> [5].\n",
    "twitter.getNewsFeed(1);\n",
    "\n",
    "// User 1 follows user 2.\n",
    "twitter.follow(1, 2);\n",
    "\n",
    "// User 2 posts a new tweet (id = 6).\n",
    "twitter.postTweet(2, 6);\n",
    "\n",
    "// User 1's news feed should return a list with 2 tweet ids -> [6, 5].\n",
    "// Tweet id 6 should precede tweet id 5 because it is posted after tweet id 5.\n",
    "twitter.getNewsFeed(1);\n",
    "```"
   ],
   "metadata": {
    "collapsed": false,
    "pycharm": {
     "name": "#%% md\n"
    }
   }
  },
  {
   "cell_type": "code",
   "execution_count": 4,
   "outputs": [],
   "source": [
    "from typing import List, Dict\n",
    "class Twitter:\n",
    "    users: Dict[int, List[int]]\n",
    "    tweets: List[Dict[int, int]]\n",
    "\n",
    "    def __init__(self):\n",
    "        \"\"\"\n",
    "        Initialize your data structure here.\n",
    "        \"\"\"\n",
    "        self.users = {}\n",
    "        self.tweets = []\n",
    "\n",
    "    def postTweet(self, userId: int, tweetId: int) -> None:\n",
    "        \"\"\"\n",
    "        Compose a new tweet.\n",
    "        \"\"\"\n",
    "        self.tweets.append({userId: tweetId})\n",
    "\n",
    "\n",
    "    def getNewsFeed(self, userId: int) -> List[int]:\n",
    "        \"\"\"\n",
    "        Retrieve the 10 most recent tweet ids in the user's news feed. Each item in the news feed must be posted by users who the user followed or by the user herself. Tweets must be ordered from most recent to least recent.\n",
    "        \"\"\"\n",
    "        myfeed =  []\n",
    "        for i in range(len(self.tweets)):\n",
    "            t = self.tweets[len(self.tweets) - i - 1]\n",
    "            for user, feed in t.items():\n",
    "                friends = self.users.get(userId, [])\n",
    "                if user == userId or user in friends:\n",
    "                    myfeed.append(feed)\n",
    "                    if len(myfeed) == 10:\n",
    "                        return myfeed\n",
    "        return myfeed\n",
    "\n",
    "    def follow(self, followerId: int, followeeId: int) -> None:\n",
    "        \"\"\"\n",
    "        Follower follows a followee. If the operation is invalid, it should be a no-op.\n",
    "        \"\"\"\n",
    "        if followerId in self.users:\n",
    "            self.users[followerId].append(followeeId)\n",
    "        else:\n",
    "            self.users[followerId] = [followeeId]\n",
    "\n",
    "\n",
    "    def unfollow(self, followerId: int, followeeId: int) -> None:\n",
    "        \"\"\"\n",
    "        Follower unfollows a followee. If the operation is invalid, it should be a no-op.\n",
    "        \"\"\"\n",
    "        if followerId in self.users:\n",
    "            if followeeId in self.users[followerId]:\n",
    "                self.users[followerId].remove(followeeId)"
   ],
   "metadata": {
    "collapsed": false,
    "pycharm": {
     "name": "#%%\n"
    }
   }
  }
 ],
 "metadata": {
  "kernelspec": {
   "display_name": "Python 3",
   "language": "python",
   "name": "python3"
  },
  "language_info": {
   "codemirror_mode": {
    "name": "ipython",
    "version": 2
   },
   "file_extension": ".py",
   "mimetype": "text/x-python",
   "name": "python",
   "nbconvert_exporter": "python",
   "pygments_lexer": "ipython2",
   "version": "2.7.6"
  }
 },
 "nbformat": 4,
 "nbformat_minor": 0
}