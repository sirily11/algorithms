{
 "cells": [
  {
   "cell_type": "markdown",
   "metadata": {
    "collapsed": true,
    "pycharm": {
     "name": "#%% md\n"
    }
   },
   "source": [
    "# Subarray Sum Equals K\n",
    "Given an array of integers and an integer k, you need to find the total number of continuous subarrays whose sum equals to k."
   ]
  },
  {
   "cell_type": "markdown",
   "source": [
    "## Example 1\n",
    "```\n",
    "Input:nums = [1,1,1], k = 2\n",
    "Output: 2\n",
    "```"
   ],
   "metadata": {
    "collapsed": false
   }
  },
  {
   "cell_type": "markdown",
   "source": [
    "## Solution\n",
    "\n",
    "First let say we have a array\n",
    "```\n",
    "[1, 2, 3, 4]\n",
    "```\n",
    "Then we have a pre-array which contains the sum of the elements before.\n",
    "```\n",
    "[1, 3, 6, 10]\n",
    "```\n",
    "And we can find that the sum of sub-array ```[2, 3, 4]``` is equal to difference between ```10```\n",
    "and ```1```\n",
    "\n",
    "And now we can have a equation of sum of array from index j to index k\n",
    "$$\\sum_{i=j}^{k}array[i] = pre[k] - pre[j - 1] = target$$\n",
    "\n",
    "Or\n",
    "\n",
    "$$pre[k] - target = pre[j - 1]$$\n",
    "\n",
    "And we can first store the value $pre[j-1]$ and then find if any $pre[k] - target$ is equal to the value we have before.\n",
    "\n",
    "- If so, then there is a sub-array with sum equals to target\n",
    "- Else, go to next value"
   ],
   "metadata": {
    "collapsed": false,
    "pycharm": {
     "name": "#%% md\n"
    }
   }
  },
  {
   "cell_type": "code",
   "execution_count": 11,
   "outputs": [
    {
     "data": {
      "text/plain": "2"
     },
     "execution_count": 11,
     "metadata": {},
     "output_type": "execute_result"
    }
   ],
   "source": [
    "from typing import List, Dict\n",
    "def find_subarray(arr: List[int], target: int) -> int:\n",
    "    pre = 0\n",
    "    visited_map: Dict[int, int] = {0: 1}\n",
    "    count = 0\n",
    "    for i in range(len(arr)):\n",
    "        pre += arr[i]\n",
    "        # find if pre[k] - target exists\n",
    "        if pre - target in visited_map:\n",
    "            count  += visited_map[pre - target]\n",
    "        # Set the current value to the map\n",
    "        visited_map[pre] = visited_map.get(pre, 0) + 1\n",
    "\n",
    "    return count\n",
    "\n",
    "find_subarray([1, 1, 1], 2)"
   ],
   "metadata": {
    "collapsed": false,
    "pycharm": {
     "name": "#%%\n"
    }
   }
  },
  {
   "cell_type": "code",
   "execution_count": 12,
   "outputs": [
    {
     "data": {
      "text/plain": "55"
     },
     "execution_count": 12,
     "metadata": {},
     "output_type": "execute_result"
    }
   ],
   "source": [
    "find_subarray([0,0,0,0,0,0,0,0,0,0], 0)"
   ],
   "metadata": {
    "collapsed": false,
    "pycharm": {
     "name": "#%%\n"
    }
   }
  }
 ],
 "metadata": {
  "kernelspec": {
   "display_name": "Python 3",
   "language": "python",
   "name": "python3"
  },
  "language_info": {
   "codemirror_mode": {
    "name": "ipython",
    "version": 2
   },
   "file_extension": ".py",
   "mimetype": "text/x-python",
   "name": "python",
   "nbconvert_exporter": "python",
   "pygments_lexer": "ipython2",
   "version": "2.7.6"
  }
 },
 "nbformat": 4,
 "nbformat_minor": 0
}